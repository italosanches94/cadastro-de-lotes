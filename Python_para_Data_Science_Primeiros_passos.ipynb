{
  "nbformat": 4,
  "nbformat_minor": 0,
  "metadata": {
    "colab": {
      "provenance": [],
      "authorship_tag": "ABX9TyMQ8f2p4yGrpd5Rgwl/q8Wy",
      "include_colab_link": true
    },
    "kernelspec": {
      "name": "python3",
      "display_name": "Python 3"
    },
    "language_info": {
      "name": "python"
    }
  },
  "cells": [
    {
      "cell_type": "markdown",
      "metadata": {
        "id": "view-in-github",
        "colab_type": "text"
      },
      "source": [
        "<a href=\"https://colab.research.google.com/github/italosanches94/cadastro-de-lotes/blob/main/Python_para_Data_Science_Primeiros_passos.ipynb\" target=\"_parent\"><img src=\"https://colab.research.google.com/assets/colab-badge.svg\" alt=\"Open In Colab\"/></a>"
      ]
    },
    {
      "cell_type": "markdown",
      "source": [
        "# Dados do usuario"
      ],
      "metadata": {
        "id": "MirGowT8ZsX9"
      }
    },
    {
      "cell_type": "markdown",
      "source": [
        "1 - Crie um programa que solicite à pessoa usuária digitar seu nome, e imprima “Olá, [nome]!”.\n",
        "\n",
        "2 - Crie um programa que solicite à pessoa usuária digitar seu nome e idade, e imprima “Olá, [nome], você tem [idade] anos.”.\n",
        "\n",
        "3 - Crie um programa que solicite à pessoa usuária digitar seu nome, idade e altura em metros, e imprima “Olá, [nome], você tem [idade] anos e mede [altura] metros!”."
      ],
      "metadata": {
        "id": "gRoKXkkdMPow"
      }
    },
    {
      "cell_type": "code",
      "execution_count": null,
      "metadata": {
        "id": "mQCnE-ShF_AK",
        "colab": {
          "base_uri": "https://localhost:8080/"
        },
        "outputId": "9720afbe-f291-4293-8765-7ef919d706d1"
      },
      "outputs": [
        {
          "output_type": "stream",
          "name": "stdout",
          "text": [
            "Insira o seu nome: Italo\n",
            "Insira a sua idade: 29\n",
            "Insira sua altura: 1.75\n",
            "\n",
            "\t---- 'Informações de contato' ----\n",
            "\n",
            "\tOlá, Italo, você tem 29 anos e mede 1.75 metros\n"
          ]
        }
      ],
      "source": [
        "nome = input('Insira o seu nome: ')\n",
        "idade = int(input('Insira a sua idade: '))\n",
        "altura = float(input('Insira sua altura: '))\n",
        "mensagem = '\\n\\t---- \\'Informações de contato\\' ----'\n",
        "print('%s' %(mensagem))\n",
        "print(f'\\n\\tOlá, {nome}, você tem {idade} anos e mede {altura} metros')"
      ]
    },
    {
      "cell_type": "markdown",
      "source": [
        "# Operacoes matematicas"
      ],
      "metadata": {
        "id": "IxZH76YwZ4xo"
      }
    },
    {
      "cell_type": "code",
      "source": [
        "# 1 - Crie um programa que solicite dois valores numéricos à pessoa usuária e imprima a soma dos dois valores.\n",
        "# 2 - Crie um programa que solicite três valores numéricos à pessoa usuária e imprima a soma dos três valores.\n",
        "# 3 - Crie um programa que solicite dois valores numéricos à pessoa usuária e imprima a subtração do primeiro pelo o segundo valor.\n",
        "# 4 - Crie um programa que solicite dois valores numéricos à pessoa usuária e imprima a multiplicação dos dois valores.\n",
        "# 5 - Crie um programa que solicite dois valores numéricos, um numerador e um denominador, e realize a divisão entre os dois valores. Deixe claro que o valor do denominador não pode ser 0.\n",
        "# 6 - Crie um programa que solicite dois valores numéricos, um operador e uma potência, e realize a exponenciação entre esses dois valores.\n",
        "# 7 - Crie um programa que solicite dois valores numéricos, um numerador e um denominador e realize a divisão inteira entre os dois valores. Deixe claro que o valor do denominador não pode ser 0.\n",
        "# 8 - Crie um programa que solicite dois valores numéricos, um numerador e um denominador, e retorne o resto da divisão entre os dois valores. Deixe claro que o valor do denominador não pode ser 0.\n",
        "# 9 - Crie um código que solicita 3 notas de um estudante e imprima a média das notas.\n",
        "# 10 - Crie um código que calcule e imprima a média ponderada dos números 5, 12, 20 e 15 com pesos respectivamente iguais a 1, 2, 3 e 4.\n",
        "\n",
        "print('Sistema de operações matemáticas:\\n1 - Soma de 2 valores\\n2 - Soma de 3 valores\\n3 - Subtração de 2 valores\\n4 - Multiplicação de 2 valores\\n5 - Subtração entre dois valores\\n6 - Exponenciação\\n7 - Divisão inteira\\n8 - Resto de uma divisão\\n9 - Média de notas\\n10 - Média ponderada de notas')\n",
        "opcao = input('Informe a opção desejada: ')\n",
        "opcao = int(opcao)\n",
        "\n",
        "if opcao == 1:\n",
        "    def soma_2_numeros():\n",
        "      print('\\nSoma de dois números: ')\n",
        "      primeiro_numero = float(input('Insira o primeiro numero: '))\n",
        "      segundo_numero = float(input('Insira o segundo numero: '))\n",
        "      soma = primeiro_numero+segundo_numero\n",
        "      print(f'Soma:\\nA soma dos numeros inseridos é: {soma}')\n",
        "    soma_2_numeros()\n",
        "\n",
        "elif opcao == 2:\n",
        "    def soma_3_numeros():\n",
        "      print('\\nSoma de três números:')\n",
        "      primeiro_numero = float(input('Insira o primeiro numero: '))\n",
        "      segundo_numero = float(input('Insira o segundo numero: '))\n",
        "      terceiro_numero = float(input('Insira o terceiro numero: '))\n",
        "      soma = primeiro_numero+segundo_numero+terceiro_numero\n",
        "      print(f'Soma:\\nA soma dos numeros inseridos é: {soma:.2f}')\n",
        "    soma_3_numeros()\n",
        "\n",
        "elif opcao == 3:\n",
        "    def subtracao():\n",
        "      print('\\nSubtração de dois números:')\n",
        "      primeiro_numero = float(input('Insira o primeiro numero: '))\n",
        "      segundo_numero = float(input('Insira o segundo numero: '))\n",
        "      subtracao = primeiro_numero-segundo_numero\n",
        "      print(f'{primeiro_numero} - {segundo_numero} = {subtracao:.2f}')\n",
        "    subtracao()\n",
        "\n",
        "elif opcao == 4:\n",
        "    def multiplicacao():\n",
        "      print('\\nMultiuplicação de dois números:')\n",
        "      primeiro_numero = float(input('Insira o primeiro numero: '))\n",
        "      segundo_numero = float(input('Insira o segundo numero: '))\n",
        "      multiplicacao = primeiro_numero*segundo_numero\n",
        "      print(f'{primeiro_numero} * {segundo_numero} = {multiplicacao:.2f}')\n",
        "    multiplicacao()\n",
        "\n",
        "elif opcao == 5:\n",
        "    def divisao():\n",
        "      print('\\nDivisão de dois números:')\n",
        "      numerador = float(input('Insira o numerador: '))\n",
        "      denominador = float(input('Insira o denominador: '))\n",
        "      if denominador == 0:\n",
        "        print('Operação não permitida. O denominador não pode ser 0')\n",
        "      else:\n",
        "        divisao = numerador/denominador\n",
        "        print(f'O produto da divisão entre o numerador {numerador} e o denominador {denominador} é: {divisao}')\n",
        "    divisao()\n",
        "\n",
        "elif opcao == 6:\n",
        "    def exponenciacao():\n",
        "      print('\\nExponenciação:')\n",
        "      operador = float(input('Insira o operador: '))\n",
        "      potencia = float(input('Insira a potencia: '))\n",
        "      exponenciacao = operador**potencia\n",
        "      print(f'O operador {operador} elevado a potência {potencia} é igual a {exponenciacao}')\n",
        "    exponenciacao()\n",
        "\n",
        "elif opcao == 7:\n",
        "    def divisao_inteira():\n",
        "      print('\\nDivisão inteira de dois números:')\n",
        "      numerador = float(input('Insira o numerador: '))\n",
        "      denominador = float(input('Insira o denominador: '))\n",
        "      if denominador == 0:\n",
        "        print('Operação não permitida. O denominador não pode ser 0')\n",
        "      elif numerador%denominador == 0:\n",
        "        divisao_inteira = numerador/denominador\n",
        "        int(divisao_inteira)\n",
        "        print(f'O produto da divisão entre o numerador {numerador} e o denominador {denominador} é: {divisao_inteira}')\n",
        "      else:\n",
        "        print('Somente divisão inteira é permitida nessa operação')\n",
        "    divisao_inteira()\n",
        "\n",
        "elif opcao == 8:\n",
        "    def resto_da_divisao():\n",
        "      print('\\nResto da divisão de dois números:')\n",
        "      numerador = float(input('Insira o numerador: '))\n",
        "      denominador = float(input('Insira o denominador: '))\n",
        "      if denominador == 0:\n",
        "        print('Operação não permitida. O denominador não pode ser 0')\n",
        "      else:\n",
        "        operacao = numerador%denominador\n",
        "        print(f'O resto da divisão entre o numerador {numerador} e o denominador {denominador} é {operacao}')\n",
        "    resto_da_divisao()\n",
        "\n",
        "elif opcao == 9:\n",
        "    def media_de_notas():\n",
        "      aluno = input('Insira o nome do aluno: ')\n",
        "      primeira_nota = float(input('Insira a primeira nota: '))\n",
        "      segunda_nota = float(input('Insira a segunda nota: '))\n",
        "      terceira_nota = float(input('Insira a terceira nota: '))\n",
        "      media = ((primeira_nota+segunda_nota+terceira_nota)/3)\n",
        "      print(f'Notas obtidas pelo aluno {aluno}:\\nNota 1: {primeira_nota}\\nNota2: {segunda_nota}\\nNota 3: {terceira_nota}\\nTotal: {primeira_nota+segunda_nota+terceira_nota}\\nMédia: {media}')\n",
        "    media_de_notas()\n",
        "\n",
        "elif opcao == 10:\n",
        "    def media_ponderada():\n",
        "      primeira_nota = 5\n",
        "      segunda_nota = 12\n",
        "      terceira_nota = 20\n",
        "      quarta_nota = 15\n",
        "      peso_1 = 1\n",
        "      peso_2 = 2\n",
        "      peso_3 = 3\n",
        "      peso_4 = 4\n",
        "      media_ponderada = (primeira_nota*peso_1+segunda_nota*peso_2+terceira_nota*peso_3+quarta_nota*peso_4)/(peso_1+peso_2+peso_3+peso_4)\n",
        "      print(f'A média ponderada das notas: {primeira_nota,segunda_nota,terceira_nota,quarta_nota} com os respectivos pesos {peso_1,peso_2,peso_3,peso_4} é {media_ponderada}')\n",
        "    media_ponderada()\n",
        "\n",
        "else:\n",
        "    print('Opção inválida')"
      ],
      "metadata": {
        "colab": {
          "base_uri": "https://localhost:8080/"
        },
        "id": "3laVYxMXQN1E",
        "outputId": "6dcb06c6-6ef2-4929-c91e-8b238ec4138b"
      },
      "execution_count": null,
      "outputs": [
        {
          "output_type": "stream",
          "name": "stdout",
          "text": [
            "Sistema de operações matemáticas:\n",
            "1 - Soma de 2 valores\n",
            "2 - Soma de 3 valores\n",
            "3 - Subtração de 2 valores\n",
            "4 - Multiplicação de 2 valores\n",
            "5 - Subtração entre dois valores\n",
            "6 - Exponenciação\n",
            "7 - Divisão inteira\n",
            "8 - Resto de uma divisão\n",
            "9 - Média de notas\n",
            "10 - Média ponderada de notas\n",
            "Informe a opção desejada: 10\n",
            "A média ponderada das notas: (5, 12, 20, 15) com os respectivos pesos (1, 2, 3, 4) é 14.9\n"
          ]
        }
      ]
    },
    {
      "cell_type": "markdown",
      "source": [
        "# Formatacao de texto"
      ],
      "metadata": {
        "id": "I98Pa9DaaIB3"
      }
    },
    {
      "cell_type": "code",
      "source": [
        "# 1 - Crie uma variável chamada “frase” e atribua a ela uma string de sua escolha. Em seguida, imprima a frase na tela.\n",
        "frase = 'Se formos livres por dentro nada nos aprisionará por fora'\n",
        "print(frase)\n",
        "# 2 - Crie um código que solicite uma frase e depois imprima a frase na tela.\n",
        "frase = input('Insira uma frase: ')\n",
        "print(frase)\n",
        "# 3 - Crie um código que solicite uma frase à pessoa usuária e imprima a mesma frase digitada mas com todas as letras maiúsculas.\n",
        "frase = input('Insira uma frase: ')\n",
        "print(frase.upper())\n",
        "# 4 - Crie um código que solicite uma frase à pessoa usuária e imprima a mesma frase digitada mas com todas as letras minúsculas.\n",
        "frase = input('Insira uma frase: ')\n",
        "print(frase.lower())\n",
        "# 5 - Crie uma variável chamada “frase” e atribua a ela uma string de sua escolha. Em seguida, imprima a frase sem espaços em branco no início e no fim.\n",
        "frase = ' Se formos livres por dentro nada nos aprisionará por fora '\n",
        "print(frase.lstrip().rstrip())\n",
        "# 6 - Crie um código que solicite uma frase à pessoa usuária e imprima a mesma frase sem espaços em branco no início e no fim.\n",
        "frase = input('Insira uma frase: ')\n",
        "print(frase.lstrip().rstrip())\n",
        "# 7 - Crie um código que solicite uma frase à pessoa usuária e imprima a mesma frase sem espaços em branco no início e no fim e em letras minúsculas.\n",
        "frase = input('Insira uma frase: ')\n",
        "print(frase.lstrip().rstrip().lower())\n",
        "# 8 - Crie um código que solicite uma frase à pessoa usuária e imprima a mesma frase com todas as vogais “e” trocadas pela letra “f”.\n",
        "frase = input('Insira uma frase: ')\n",
        "print(frase.replace('e','f'))\n",
        "# 9 - Crie um código que solicite uma frase à pessoa usuária e imprima a mesma frase com todas as vogais “a” trocadas pela caractere “@”.\n",
        "frase = input('Insira uma frase: ')\n",
        "print(frase.replace('a','@'))\n",
        "# 10 - Crie um código que solicite uma frase à pessoa usuária e imprima a mesma frase com todas as consoantes “s” trocadas pelo caractere “$”.\n",
        "frase = input('Insira uma frase: ')\n",
        "print(frase.replace('s','$'))"
      ],
      "metadata": {
        "id": "CYoHxgOMRQ5u",
        "colab": {
          "base_uri": "https://localhost:8080/"
        },
        "outputId": "939a4d26-ff61-44cb-e115-028df95dd7ac"
      },
      "execution_count": null,
      "outputs": [
        {
          "output_type": "stream",
          "name": "stdout",
          "text": [
            "Se formos livres por dentro nada nos aprisionará por fora\n",
            "Insira uma frase: Teste\n",
            "Teste\n",
            "Insira uma frase: teste\n",
            "TESTE\n",
            "Insira uma frase: TESTE\n",
            "teste\n",
            "Se formos livres por dentro nada nos aprisionará por fora\n",
            "Insira uma frase: Teste\n",
            "Teste\n",
            "Insira uma frase: teste\n",
            "teste\n",
            "Insira uma frase: teste\n",
            "tfstf\n",
            "Insira uma frase: Italo Sanches Freitas\n",
            "It@lo S@nches Freit@s\n",
            "Insira uma frase: Italo Sanches Freitas\n",
            "Italo Sanche$ Freita$\n"
          ]
        }
      ]
    },
    {
      "cell_type": "code",
      "source": [
        "# 9) Escreva um programa que peça um número à pessoa usuária e informe se ele é inteiro ou decimal.\n",
        "\n",
        "# 1) Escreva um programa que peça à pessoa usuária para fornecer dois números e exibir o número maior.\n",
        "n1 = float(input('Insira o primeiro numero: '))\n",
        "n2 = float(input('Insira o segundo numero: '))\n",
        "\n",
        "if n1 > n2:\n",
        "  print(f'O numero {n1} e maior')\n",
        "elif n2 > n1:\n",
        "  print(f'O numero {n2} e maior')\n",
        "else:\n",
        "  print('Os numeros informados sao iguais')"
      ],
      "metadata": {
        "id": "xGcE8jLraq-w",
        "colab": {
          "base_uri": "https://localhost:8080/"
        },
        "outputId": "fb6df41b-a25b-462d-ea95-d7dafc27537c"
      },
      "execution_count": null,
      "outputs": [
        {
          "output_type": "stream",
          "name": "stdout",
          "text": [
            "Insira o primeiro numero: 1\n",
            "Insira o segundo numero: 1\n",
            "Os numeros informados sao iguais\n"
          ]
        }
      ]
    },
    {
      "cell_type": "code",
      "source": [
        "# 2) Escreva um programa que solicite o percentual de crescimento de produção de uma empresa e informe se houve um crescimento (porcentagem positiva) ou decrescimento (porcentagem negativa).\n",
        "\n",
        "percentual = float(input('Insira o percentual de crescimento da empresa: '))\n",
        "\n",
        "if percentual > 0:\n",
        "  print(f'Houve um crescimento positivo. A empresa cresceu {percentual:.2f}%')\n",
        "elif percentual < 0:\n",
        "  print(f'Houve um crescimento negativo. A empresa perdeu {percentual:.2f}%')\n",
        "else:\n",
        "  print('Nao houve crescimento')"
      ],
      "metadata": {
        "colab": {
          "base_uri": "https://localhost:8080/"
        },
        "id": "VtFw-9Pkb5CD",
        "outputId": "e75bbe65-4ea4-43bd-934a-e40d5e9d5165"
      },
      "execution_count": null,
      "outputs": [
        {
          "output_type": "stream",
          "name": "stdout",
          "text": [
            "Insira o percentual de crescimento da empresa: 2.2345678\n",
            "Houve um crescimento positivo. A empresa cresceu 2.23%\n"
          ]
        }
      ]
    },
    {
      "cell_type": "code",
      "source": [
        "# 3) Escreva um programa que determine se uma letra fornecida pela pessoa usuária é uma vogal ou consoante.\n",
        "\n",
        "\n",
        "letra = input('Insira uma letra: ')\n",
        "vogais = ['A','E','I','O','U']\n",
        "letra = letra.upper()\n",
        "if len(letra) > 1:\n",
        "  print('Informar somente uma letra')\n",
        "elif letra in vogais:\n",
        "  print(f'A letra {letra} e uma vogal')\n",
        "else:\n",
        "  print(f'A letra {letra} e uma consoante')"
      ],
      "metadata": {
        "colab": {
          "base_uri": "https://localhost:8080/"
        },
        "id": "E0v2w8fcddx4",
        "outputId": "ca26f784-2d59-44f8-847c-7e01a9a05e53"
      },
      "execution_count": null,
      "outputs": [
        {
          "output_type": "stream",
          "name": "stdout",
          "text": [
            "Insira uma letra: b\n",
            "A letra B e uma consoante\n"
          ]
        }
      ]
    },
    {
      "cell_type": "code",
      "source": [
        "# 4) Escreva um programa que leia valores médios de preços de um modelo de carro por 3 anos consecutivos e exiba o valor mais alto e mais baixo entre esses três anos.\n",
        "\n",
        "carro = input('Insira o carro a ser verificado: ')\n",
        "\n",
        "vlr_1 = float(input(f'Insira o primeiro valor encontrado referente ao veiculo {carro}: '))\n",
        "vlr_2 = float(input(f'Insira o segundo valor encontrado referente ao veiculo {carro}: '))\n",
        "vlr_3 = float(input(f'Insira o terceiro valor encontrado referente ao veiculo {carro}: '))\n",
        "\n",
        "if vlr_1 > vlr_2 < vlr_3:\n",
        "  print(f'O maior valor e o {vlr_1}')\n",
        "elif vlr_1 < vlr_2 > vlr_3:\n",
        "  print(f'O maior valor e o {vlr_2}')\n",
        "else:\n",
        "  print(f'O maior valor e o {vlr_3}')"
      ],
      "metadata": {
        "colab": {
          "base_uri": "https://localhost:8080/"
        },
        "id": "YMS8oG5AkOIN",
        "outputId": "bebdba4d-0d19-4f12-802b-a7a400f404d4"
      },
      "execution_count": null,
      "outputs": [
        {
          "output_type": "stream",
          "name": "stdout",
          "text": [
            "Insira o carro a ser verificado: Uno\n",
            "Insira o primeiro valor encontrado referente ao veiculo Uno: 10000\n",
            "Insira o segundo valor encontrado referente ao veiculo Uno: 10\n",
            "Insira o terceiro valor encontrado referente ao veiculo Uno: 3500\n",
            "O maior valor e o 10000.0\n"
          ]
        }
      ]
    },
    {
      "cell_type": "code",
      "source": [
        "# 5) Escreva um programa que pergunte sobre o preço de três produtos e indique qual é o produto mais barato para comprar.\n",
        "\n",
        "produto_1 = []\n",
        "produto_1.append(input('Insira o nome do primeiro produto: '))\n",
        "produto_1.append(float(input(f'Insira o valor do produto  {produto_1[0]} ')))\n",
        "produto_2 = []\n",
        "produto_2.append(input('Insira o nome do segundo produto: '))\n",
        "produto_2.append(float(input(f'Insira o valor do produto  {produto_2[0]} ')))\n",
        "produto_3 = []\n",
        "produto_3.append(input('Insira o nome do terceiro produto: '))\n",
        "produto_3.append(float(input(f'Insira o valor do produto  {produto_3[0]} ')))\n",
        "\n",
        "print(produto_1)\n",
        "print(produto_2)\n",
        "print(produto_3)\n",
        "\n",
        "if produto_2[1] > produto_1[1] < produto_3[1]:\n",
        "  print(f'O produto {produto_1[0]} e o mais barato')\n",
        "elif produto_1[1] > produto_2[1] < produto_3[1]:\n",
        "  print(f'O produto {produto_2[0]} e o mais barato')\n",
        "else:\n",
        "  print(f'O produto {produto_3[0]} e o mais barato')"
      ],
      "metadata": {
        "colab": {
          "base_uri": "https://localhost:8080/"
        },
        "id": "K2XGj1qwrb2i",
        "outputId": "d4f2ba6a-7687-4c86-b562-5d7aad89e401"
      },
      "execution_count": null,
      "outputs": [
        {
          "output_type": "stream",
          "name": "stdout",
          "text": [
            "Insira o nome do primeiro produto: A\n",
            "Insira o valor do produto  A 20000\n",
            "Insira o nome do segundo produto: B\n",
            "Insira o valor do produto  B 8000\n",
            "Insira o nome do terceiro produto: 1200\n",
            "Insira o valor do produto  1200 1200\n",
            "['A', 20000.0]\n",
            "['B', 8000.0]\n",
            "['1200', 1200.0]\n",
            "O produto 1200 e o mais barato\n"
          ]
        }
      ]
    },
    {
      "cell_type": "code",
      "source": [
        "# 6) Escreva um programa que leia três números e os exiba em ordem decrescente.\n",
        "\n",
        "numeros = []\n",
        "for i in range(3):\n",
        "  numeros.append(float(input(f'Insira o {i+1}º numero: ')))\n",
        "lista_ordenada = sorted(numeros, reverse=True)\n",
        "print(lista_ordenada)"
      ],
      "metadata": {
        "id": "YxTLIRGHwaAS",
        "colab": {
          "base_uri": "https://localhost:8080/"
        },
        "outputId": "3dc1824c-b5a1-413f-93a4-aa10de7aee4b"
      },
      "execution_count": null,
      "outputs": [
        {
          "output_type": "stream",
          "name": "stdout",
          "text": [
            "Insira o 1º numero: 1\n",
            "Insira o 2º numero: 2\n",
            "Insira o 3º numero: 3\n",
            "[3.0, 2.0, 1.0]\n"
          ]
        }
      ]
    },
    {
      "cell_type": "code",
      "source": [
        "# 7) Escreva um programa que pergunte em qual turno a pessoa usuária estuda (\"manhã\", \"tarde\" ou \"noite\") e exiba a mensagem \"Bom Dia!\", \"Boa Tarde!\", \"Boa Noite!\", ou \"Valor Inválido!\", conforme o caso.\n",
        "\n",
        "turno = input('Qual turno voce estuda? ')\n",
        "turno = turno.upper()\n",
        "if (turno == 'MANHA'):\n",
        "  print('Bom dia!')\n",
        "elif (turno == 'TARDE'):\n",
        "  print('Boa tarde!')\n",
        "elif (turno == 'NOITE'):\n",
        "  print('Boa noite!')\n",
        "else:\n",
        "  print('Turno invalido')"
      ],
      "metadata": {
        "colab": {
          "base_uri": "https://localhost:8080/"
        },
        "id": "4h7QcIWdzvvD",
        "outputId": "58cea19d-c499-440f-9194-e594422409b7"
      },
      "execution_count": null,
      "outputs": [
        {
          "output_type": "stream",
          "name": "stdout",
          "text": [
            "Qual turno voce estuda? ss\n",
            "Turno invalido\n"
          ]
        }
      ]
    },
    {
      "cell_type": "code",
      "source": [
        "# 8) Escreva um programa que peça um número inteiro à pessoa usuária e determine se ele é par ou ímpar. Dica: Você pode utilizar o operador módulo %.\n",
        "\n",
        "numero = int(input('Insira um numero: '))\n",
        "if numero % 2 == 0:\n",
        "  print('O numero inserido e par')\n",
        "else:\n",
        "  print('O numero inserido e impar')"
      ],
      "metadata": {
        "colab": {
          "base_uri": "https://localhost:8080/"
        },
        "id": "mayaleIN2YK1",
        "outputId": "5ecf0340-23ea-4066-eeef-5c2f54398c5d"
      },
      "execution_count": null,
      "outputs": [
        {
          "output_type": "stream",
          "name": "stdout",
          "text": [
            "Insira um numero: -10\n",
            "O numero inserido e par\n"
          ]
        }
      ]
    },
    {
      "cell_type": "code",
      "source": [
        "# 9) Escreva um programa que peça um número à pessoa usuária e informe se ele é inteiro ou decimal.\n",
        "\n",
        "numero = float(input('Insira um numero: '))\n",
        "if numero % 1 == 0:\n",
        "  print('Numero inteiro')\n",
        "else:\n",
        "  print('Numero decimal')"
      ],
      "metadata": {
        "id": "6FysQ2t83Lmm"
      },
      "execution_count": null,
      "outputs": []
    },
    {
      "cell_type": "code",
      "source": [
        "# 10) Um programa deve ser escrito para ler dois números e, em seguida, perguntar à pessoa usuária qual operação ele deseja realizar.\n",
        "# O resultado da operação deve incluir informações sobre o número - se é par ou ímpar, positivo ou negativo e inteiro ou decimal.\n",
        "\n",
        "operacao = int(input('Qual operacao deseja realizar? Informe apenas o numero\\n1 - Soma\\n2 - Subtracao\\n3 - Multiplicacao\\n4 - Divisao\\n'))\n",
        "numero1 = float(input('Informe o primeiro numero: '))\n",
        "numero2 = float(input('Informe o segundo numero: '))\n",
        "\n",
        "if operacao == 1:\n",
        "    resultado = numero1+numero2\n",
        "    print(resultado)\n",
        "\n",
        "elif operacao == 2:\n",
        "    resultado = numero1-numero2\n",
        "    print(resultado)\n",
        "\n",
        "elif operacao == 3:\n",
        "    resultado = numero1*numero2\n",
        "    print(resultado)\n",
        "\n",
        "elif operacao == 4:\n",
        "    resultado = numero1/numero2\n",
        "    print(resultado)\n",
        "\n",
        "else:\n",
        "  print('Opcao invalida')\n",
        "\n",
        "def verificacao():\n",
        "  if (resultado % 2) == 0:\n",
        "    ParImpar = 'Par'\n",
        "  else:\n",
        "    ParImpar = 'Impar'\n",
        "\n",
        "  if resultado > 0:\n",
        "    PositivoNegativo = 'Positivo'\n",
        "  else:\n",
        "    PositivoNegativo = 'Negativo'\n",
        "\n",
        "  if resultado % 1 == 0:\n",
        "    decimalInteiro = 'Inteiro'\n",
        "    if resultado % 2 == 0:\n",
        "      ParImpar = 'Par'\n",
        "    else:\n",
        "      ParImpar = 'Impar'\n",
        "  else:\n",
        "    decimalInteiro = 'Decimal'\n",
        "    ParImpar = 'nao pode ser classificado como par ou impar por ser um numero decimal'\n",
        "\n",
        "  print(f'O numero {resultado} e {PositivoNegativo}, {decimalInteiro} e {ParImpar}')\n",
        "\n",
        "verificacao()"
      ],
      "metadata": {
        "colab": {
          "base_uri": "https://localhost:8080/"
        },
        "id": "4PEX28XuI_k2",
        "outputId": "57bd9980-2caa-42a9-abc5-1bedcb4c0bff"
      },
      "execution_count": null,
      "outputs": [
        {
          "output_type": "stream",
          "name": "stdout",
          "text": [
            "Qual operacao deseja realizar? Informe apenas o numero\n",
            "1 - Soma\n",
            "2 - Subtracao\n",
            "3 - Multiplicacao\n",
            "4 - Divisao\n",
            "3\n",
            "Informe o primeiro numero: -2\n",
            "Informe o segundo numero: 5\n",
            "-10.0\n",
            "O numero -10.0 e Negativo, Inteiro e Par\n"
          ]
        }
      ]
    },
    {
      "cell_type": "code",
      "source": [
        "# 11) Escreva um programa que peça à pessoa usuária três números que representam os lados de um triângulo. O programa deve informar se os valores podem ser utilizados para formar um triângulo e, caso afirmativo, se ele é equilátero, isósceles ou escaleno. Tenha em mente algumas dicas:\n",
        "\n",
        "# Três lados formam um triângulo quando a soma de quaisquer dois lados for maior que o terceiro;\n",
        "# Triângulo Equilátero: três lados iguais;\n",
        "# Triângulo Isósceles: quaisquer dois lados iguais;\n",
        "# Triângulo Escaleno: três lados diferentes.\n",
        "\n",
        "lado1 = float(input('Insira o valor do primeiro lado: ' ))\n",
        "lado2 = float(input('Insira o valor do segundo lado: '))\n",
        "lado3 = float(input('Insira o primeiro lado: '))\n",
        "\n",
        "if ((lado1 + lado2) > lado3) and ((lado1 + lado3) > lado2) and ((lado2 + lado3) > lado1):\n",
        "  print('E um triangulo')\n",
        "  if lado1 == lado2 == lado3:\n",
        "    print('Triangulo equilatero')\n",
        "  elif lado1 == lado2 or lado1 == lado3 or lado2 == lado3:\n",
        "    print('Triangulo isosceles')\n",
        "  else:\n",
        "    print('Triangulo escaleno')\n",
        "else:\n",
        "  print('Nao e um triangulo')\n",
        "\n",
        "\n"
      ],
      "metadata": {
        "id": "cfPJAMtHLkMs",
        "colab": {
          "base_uri": "https://localhost:8080/"
        },
        "outputId": "b1cb8c7b-2fc6-4d47-8600-9e895079829c"
      },
      "execution_count": null,
      "outputs": [
        {
          "output_type": "stream",
          "name": "stdout",
          "text": [
            "Insira o valor do primeiro lado: 2\n",
            "Insira o valor do segundo lado: 2\n",
            "Insira o primeiro lado: 1\n",
            "E um triangulo\n",
            "Triangulo isosceles\n"
          ]
        }
      ]
    },
    {
      "cell_type": "code",
      "source": [
        "# 12) Um estabelecimento está vendendo combustíveis com descontos variados. Para o etanol, se a quantidade comprada for até 15 litros, o desconto será de 2% por litro.\n",
        "# Caso contrário, será de 4% por litro. Para o diesel, se a quantidade comprada for até 15 litros, o desconto será de 3% por litro.\n",
        "# Caso contrário, será de 5% por litro. O preço do litro de diesel é R$ 2,00 e o preço do litro de etanol é R$ 1,70.\n",
        "# Escreva um programa que leia a quantidade de litros vendidos e o tipo de combustível (E para etanol e D para diesel) e calcule o valor a ser pago pelo cliente.\n",
        "# Tenha em mente algumas dicas:\n",
        "\n",
        "# O do valor do desconto será a multiplicação entre preço do litro, quantidade de litros e o valor do desconto.\n",
        "# O valor a ser pago por um cliente será o resultado da multiplicação do preço do litro pela quantidade de litros menos o valor de desconto resultante do cálculo.\n",
        "\n",
        "combustivel = input('Qual tipo de combustivel voce deseja comprar?\\nE - Etanol\\nD - Diesel')\n",
        "litros = float(input('Quantos litros deseja comprar?'))\n",
        "\n",
        "if combustivel == 'E':\n",
        "  if litros <= 15:\n",
        "    desconto = 1.70 * litros * (2/100)\n",
        "    vlr_pago = (1.70 * litros) - desconto\n",
        "    print(f'O valor a ser pago e de {vlr_pago}')\n",
        "  else:\n",
        "    desconto = 1.70 * litros * (4/100)\n",
        "    vlr_pago = (1.70 * litros) - desconto\n",
        "    print(f'O valor a ser pago e de {vlr_pago}')\n",
        "\n",
        "elif combustivel == 'D':\n",
        "  if litros <= 15:\n",
        "    desconto = 2 * litros * (3/100)\n",
        "    vlr_pago = (2 * litros) - desconto\n",
        "    print(f'O valor a ser pago e de {vlr_pago}')\n",
        "  else:\n",
        "    desconto = 2 * litros * (5/100)\n",
        "    vlr_pago = (2 * litros) - desconto\n",
        "    print(f'O valor a ser pago e de {vlr_pago}')\n",
        "else:\n",
        "  print('Opcao invalida')"
      ],
      "metadata": {
        "id": "Lf0bAvbllOJm",
        "colab": {
          "base_uri": "https://localhost:8080/"
        },
        "outputId": "5eec8fec-013c-4be4-c60f-96ce38741ad9"
      },
      "execution_count": null,
      "outputs": [
        {
          "output_type": "stream",
          "name": "stdout",
          "text": [
            "Qual tipo de combustivel deseja comprar?\n",
            "E - Etanol\n",
            "D - DieselE\n",
            "Quantos litros deseja comprar?20\n",
            "O valor a ser pago e de 32.64\n"
          ]
        }
      ]
    },
    {
      "cell_type": "code",
      "source": [
        "# 13) Em uma empresa de venda de imóveis você precisa criar um código que analise os dados de vendas anuais para ajudar a diretoria na tomada de decisão.\n",
        "# O código precisa coletar os dados de quantidade de venda durante os anos de 2022 e 2023 e fazer um cálculo de variação percentual.\n",
        "# A partir do valor da variação, deve ser enviada às seguintes sugestões:\n",
        "# Para variação acima de 20%: bonificação para o time de vendas.\n",
        "# Para variação entre 2% e 20%: pequena bonificação para time de vendas.\n",
        "# Para variação entre 2% e -10%: planejamento de políticas de incentivo às vendas.\n",
        "# Para bonificações abaixo de -10%: corte de gastos.\n",
        "# Caso precise de ajuda, opções de solução das atividades estarão disponíveis na seção “Opinião da pessoa instrutora”.\n",
        "\n",
        "venda_2022 = float(input('Insira o total de vendas de 2022: '))\n",
        "venda_2023 = float(input('Insira o total de vendas de 2023: '))\n",
        "\n",
        "diferenca_vendas = venda_2023 - venda_2022\n",
        "variacao_percentual = ((diferenca_vendas / venda_2022) * 100)\n",
        "print(f'Diferenca: {diferenca_vendas}\\nVariacao percentual: {variacao_percentual:.2f}%')\n",
        "\n",
        "if variacao_percentual > 20:\n",
        "  print('O time de vendas recebera uma bonificacao')\n",
        "elif variacao_percentual >= 2 and variacao_percentual <= 20:\n",
        "  print('O time de vendas recebera uma pequena bonificacao')\n",
        "elif variacao_percentual >= -10 and variacao_percentual <=2:\n",
        "  print('Sera necessario implementar uma politica de incentivo as vendas')\n",
        "elif variacao_percentual < -10:\n",
        "  print('Corte de gastos necessario')"
      ],
      "metadata": {
        "id": "YxlJACpX3daf",
        "colab": {
          "base_uri": "https://localhost:8080/"
        },
        "outputId": "00d176bd-0c79-42b1-968c-df1968576edb"
      },
      "execution_count": null,
      "outputs": [
        {
          "output_type": "stream",
          "name": "stdout",
          "text": [
            "Insira o total de vendas de 2022: 100\n",
            "Insira o total de vendas de 2023: 102\n",
            "Diferenca: 2.0\n",
            "Variacao percentual: 2.00%\n",
            "O time de vendas recebera uma pequena bonificacao\n"
          ]
        }
      ]
    },
    {
      "cell_type": "markdown",
      "source": [
        "# Lista de exercicios 09"
      ],
      "metadata": {
        "id": "0kWSPSUP-fwU"
      }
    },
    {
      "cell_type": "code",
      "source": [
        "# 1) Escreva um programa que peça dois números inteiros e imprima todos os números inteiros entre eles.\n",
        "numero = []\n",
        "for contador in range(2):\n",
        "  numero.append(int(input('Insira um numero: ')))\n",
        "print(numero)\n",
        "if numero[0] >= numero[1]:\n",
        "  print(\"O primeiro número deve ser menor que o segundo número.\")\n",
        "else:\n",
        "  numeros_sequenciais = []\n",
        "  for contador in range(numero[0],numero[1]):\n",
        "    numeros_sequenciais.append(contador)\n",
        "  numeros_sequenciais.remove(numeros_sequenciais[0])\n",
        "  print(numeros_sequenciais)"
      ],
      "metadata": {
        "colab": {
          "base_uri": "https://localhost:8080/"
        },
        "id": "Ud8Wrr2ozBHm",
        "outputId": "85b7bcfb-142e-458f-f0bb-3c73f1e346c7"
      },
      "execution_count": null,
      "outputs": [
        {
          "output_type": "stream",
          "name": "stdout",
          "text": [
            "Insira um numero: 1\n",
            "Insira um numero: 10\n",
            "[1, 10]\n",
            "[2, 3, 4, 5, 6, 7, 8, 9]\n"
          ]
        }
      ]
    },
    {
      "cell_type": "code",
      "source": [
        "# Resolucao do exercicio 1 de outra forma\n",
        "numero = []\n",
        "for contador in range(2):\n",
        "  numero.append(int(input('Insira um numero: ')))\n",
        "print(numero)\n",
        "if numero[0] >= numero[1]:\n",
        "  print(\"O primeiro número deve ser menor que o segundo número.\")\n",
        "else:\n",
        "  numeros_sequenciais = []\n",
        "  for contador in range(numero[0]+1,numero[1]):\n",
        "    numeros_sequenciais.append(contador)\n",
        "  print(numeros_sequenciais)"
      ],
      "metadata": {
        "colab": {
          "base_uri": "https://localhost:8080/"
        },
        "id": "NyseTJ7l_dli",
        "outputId": "cb4599f7-a036-41fe-db9a-ff1c0e23deb9"
      },
      "execution_count": null,
      "outputs": [
        {
          "output_type": "stream",
          "name": "stdout",
          "text": [
            "Insira um numero: 1\n",
            "Insira um numero: 10\n",
            "[1, 10]\n",
            "[2, 3, 4, 5, 6, 7, 8, 9]\n"
          ]
        }
      ]
    },
    {
      "cell_type": "code",
      "source": [
        "# 2) Escreva um programa para calcular quantos dias levará para a colônia de uma bactéria A ultrapassar ou igualar a colônia de uma bactéria B,\n",
        "# com base nas taxas de crescimento de 3% e 1,5% respectivamente.\n",
        "# Considere que a colônia A inicia com 4 elementos e a colônia B com 10 elementos.\n",
        "\n",
        "colonia_A = 4\n",
        "colonia_B = 8\n",
        "dias = 0\n",
        "\n",
        "while colonia_A < colonia_B:\n",
        "  colonia_A += colonia_A*(3/100)\n",
        "  colonia_B += colonia_B*(1.5/100)\n",
        "  dias += 1\n",
        "print(f'A colonia A levara {dias} dias para ultrapassar a colonia B')"
      ],
      "metadata": {
        "colab": {
          "base_uri": "https://localhost:8080/"
        },
        "id": "Y3NvyMbEGEMT",
        "outputId": "18a3f359-f530-4014-dd61-e5b8131a4926"
      },
      "execution_count": null,
      "outputs": [
        {
          "output_type": "stream",
          "name": "stdout",
          "text": [
            "A colonia A levara 48 dias para ultrapassar a colonia B\n"
          ]
        }
      ]
    },
    {
      "cell_type": "code",
      "source": [
        "# 3) Para tratar uma quantidade de 15 dados de avaliações de pessoas usuárias de um serviço da empresa, precisamos verificar se as notas são válidas.\n",
        "# Então, escreva um programa que vai receber a nota de 0 a 5 de todos os dados e verificar se é um valor válido.\n",
        "# Caso seja inserido uma nota acima de 5 ou abaixo de 0, repita até que a pessoa usuária insira um valor válido.\n",
        "usuarios = 0\n",
        "notas = []\n",
        "while usuarios < 5:\n",
        "  notas.append(int(input('Insira uma nota: ')))\n",
        "  if notas[usuarios] >= 0 and notas[usuarios] <= 5:\n",
        "    usuarios = usuarios + 1\n",
        "  else:\n",
        "    print('Nota invalida')\n",
        "    notas.pop()\n",
        "print(notas)\n",
        "\n"
      ],
      "metadata": {
        "colab": {
          "base_uri": "https://localhost:8080/"
        },
        "id": "8Yqhnb34QDtK",
        "outputId": "9cedf85e-3232-4564-df17-0d90a2b0a17c"
      },
      "execution_count": null,
      "outputs": [
        {
          "output_type": "stream",
          "name": "stdout",
          "text": [
            "Insira uma nota: 10\n",
            "Nota invalida\n",
            "Insira uma nota: 1\n",
            "Insira uma nota: 5\n",
            "Insira uma nota: 6\n",
            "Nota invalida\n",
            "Insira uma nota: 0\n",
            "Insira uma nota: -10\n",
            "Nota invalida\n",
            "Insira uma nota: 1\n",
            "Insira uma nota: 3\n",
            "[1, 5, 0, 1, 3]\n"
          ]
        }
      ]
    },
    {
      "cell_type": "code",
      "source": [
        "# 4) Desenvolva um programa que leia um conjunto indeterminado de temperaturas em Celsius e faça uma análise.\n",
        "# Portanto, escreva um programa que leia temperaturas e informe a média delas.\n",
        "# A leitura deve ser encerrada ao ser enviado o valor -273°C.\n",
        "\n",
        "temperatura = 0\n",
        "contador = 0\n",
        "soma_temperaturas = 0\n",
        "while temperatura != -273:\n",
        "  temperatura = float(input('Insira uma temperatura: '))\n",
        "  soma_temperaturas += temperatura\n",
        "  contador += 1\n",
        "  if contador == 5:\n",
        "    break\n",
        "media = soma_temperaturas/contador\n",
        "print(media)"
      ],
      "metadata": {
        "id": "5WiImUCeYDRC",
        "colab": {
          "base_uri": "https://localhost:8080/"
        },
        "outputId": "56dc2e03-fac9-4e34-f2a5-d809b602d2bd"
      },
      "execution_count": null,
      "outputs": [
        {
          "output_type": "stream",
          "name": "stdout",
          "text": [
            "Insira uma temperatura: 10\n",
            "Insira uma temperatura: 10\n",
            "Insira uma temperatura: 10\n",
            "Insira uma temperatura: 10\n",
            "Insira uma temperatura: 10\n",
            "10.0\n"
          ]
        }
      ]
    },
    {
      "cell_type": "code",
      "source": [
        "# 5) Escreva um programa que calcule o fatorial de um número inteiro fornecido pela pessoa usuária.\n",
        "# O fatorial de um número inteiro é a multiplicação desse número por todos os seus antecessores até o número 1.\n",
        "# Por exemplo, o fatorial de 5 é 5 x 4 x 3 x 2 x 1 = 120.\n",
        "\n",
        "\n",
        "numero = int(input('Insira o numero a ser calculado o fatorial: '))\n",
        "for i in range(numero,2,-1):\n",
        "  numero = numero*(i-1)\n",
        "  print(numero)\n",
        "print(numero)\n",
        "\n"
      ],
      "metadata": {
        "colab": {
          "base_uri": "https://localhost:8080/"
        },
        "id": "n2r9GR2N1YlB",
        "outputId": "32994477-6e04-4fd0-fc39-38466821dd41"
      },
      "execution_count": null,
      "outputs": [
        {
          "output_type": "stream",
          "name": "stdout",
          "text": [
            "Insira o numero a ser calculado o fatorial: 5\n",
            "20\n",
            "60\n",
            "120\n",
            "120\n"
          ]
        }
      ]
    },
    {
      "cell_type": "code",
      "source": [
        "# Resolucao diferente da numero 5\n",
        "# Pedir o número\n",
        "num = int(input('Informe um número inteiro: '))\n",
        "\n",
        "# Inicializar o cálculo\n",
        "fatorial = 1\n",
        "\n",
        "# nosso contador inicializa com o número máximo\n",
        "# e será feita uma contagem decrescente com o operador -=\n",
        "i = num\n",
        "while i > 0:\n",
        "    # queremos multiplicar agora o valor do fatorial pelo num\n",
        "    # e todos os números abaixo dele até 1\n",
        "    fatorial *= i\n",
        "    i -= 1\n",
        "\n",
        "# Imprimir o cálculo do fatorial\n",
        "print(f'Fatorial de {num} é {fatorial}')"
      ],
      "metadata": {
        "colab": {
          "base_uri": "https://localhost:8080/"
        },
        "id": "SwpvvduCFRtn",
        "outputId": "a996b904-8b8c-4336-efbd-2d5e5eade5ae"
      },
      "execution_count": null,
      "outputs": [
        {
          "output_type": "stream",
          "name": "stdout",
          "text": [
            "Informe um número inteiro: 5\n",
            "Fatorial de 5 é 120\n"
          ]
        }
      ]
    },
    {
      "cell_type": "code",
      "source": [
        "# 6) Escreva um programa que gere a tabuada de um número inteiro de 1 a 10, de acordo com a escolha da pessoa usuária.\n",
        "# Como exemplo, para o número 2, a tabuada deve ser mostrada no seguinte formato:\n",
        "\n",
        "numero = int(input('Insira um numero: '))\n",
        "if 1 <= numero <= 10:\n",
        "  # for utilizado para percorrer un range de 1 a 10\n",
        "  for i in range(1,11):\n",
        "    # Multiplicacao do numero digitado pela posicao atual do range\n",
        "    multiplicacao = numero*i\n",
        "    print(f'{numero} x {i} = {multiplicacao}')\n",
        "else:\n",
        "  print('Insira um numero entre 1 e 10')"
      ],
      "metadata": {
        "colab": {
          "base_uri": "https://localhost:8080/"
        },
        "id": "Z2ytYGsJB1dU",
        "outputId": "bbcf1a84-6108-4a5a-b7de-2ef5f6b14424"
      },
      "execution_count": null,
      "outputs": [
        {
          "output_type": "stream",
          "name": "stdout",
          "text": [
            "Insira um numero: 9\n",
            "9 x 1 = 9\n",
            "9 x 2 = 18\n",
            "9 x 3 = 27\n",
            "9 x 4 = 36\n",
            "9 x 5 = 45\n",
            "9 x 6 = 54\n",
            "9 x 7 = 63\n",
            "9 x 8 = 72\n",
            "9 x 9 = 81\n",
            "9 x 10 = 90\n"
          ]
        }
      ]
    },
    {
      "cell_type": "code",
      "source": [
        "# 7) Os números primos possuem várias aplicações dentro da Ciência de Dados, por exemplo, na criptografia e segurança.\n",
        "# Um número primo é aquele que é divisível apenas por um e por ele mesmo.\n",
        "# Faça um programa que peça um número inteiro e determine se ele é ou não um número primo.\n",
        "\n",
        "#coletamos o número\n",
        "num = int(input('Insira um número inteiro: '))\n",
        "\n",
        "# números inteiros iguais ou abaixo de 1 não consideramos primos\n",
        "if num > 1:\n",
        "    for i in range(2, num):\n",
        "        # verificamos todos os restos de divisões entre todos os números abaixo de num\n",
        "        # se algum resto for 0, então ele é divisível por outro número além dele e 1\n",
        "        if (num % i) == 0:\n",
        "            print(f'{num} não é um número primo')\n",
        "            break\n",
        "    else:\n",
        "        print(f'{num} é um número primo')\n",
        "else:\n",
        "    print(f'{num} não é um número primo')"
      ],
      "metadata": {
        "colab": {
          "base_uri": "https://localhost:8080/"
        },
        "id": "6u4GFMMLI0j4",
        "outputId": "29423c1e-c4d0-4c1e-c487-f776ce76450c"
      },
      "execution_count": null,
      "outputs": [
        {
          "output_type": "stream",
          "name": "stdout",
          "text": [
            "Insira um número inteiro: 13\n",
            "13 é um número primo\n"
          ]
        }
      ]
    },
    {
      "cell_type": "code",
      "source": [
        "# 8) Vamos entender a distribuição de idades de pensionistas de uma empresa de previdência.\n",
        "# Escreva um programa que leia as idades de uma quantidade não informada de clientes e mostre a distribuição em intervalos de [0-25], [26-50], [51-75] e [76-100].\n",
        "# Encerre a entrada de dados com um número negativo.\n",
        "\n",
        "faixa_1 = 0\n",
        "faixa_2 = 0\n",
        "faixa_3 = 0\n",
        "faixa_4 = 0\n",
        "faixa_5 = 0\n",
        "idade = 0\n",
        "while idade >= 0:\n",
        "  idade = int(input('Informe a idade de um colaborador: '))\n",
        "  if idade >= 0 and idade <= 25:\n",
        "    faixa_1 += 1\n",
        "  elif 26 <= idade <= 50:\n",
        "    faixa_2 += 1\n",
        "  elif 51 <= idade <= 75:\n",
        "    faixa_3 += 1\n",
        "  elif 76 <= idade <= 100:\n",
        "    faixa_4 += 1\n",
        "  elif idade >100:\n",
        "    faixa_5 += 1\n",
        "soma = faixa_1 + faixa_2 + faixa_3 + faixa_4 + faixa_5\n",
        "porcentagem_1 = (faixa_1*100) / soma\n",
        "porcentagem_2 = (faixa_2*100) / soma\n",
        "porcentagem_3 = (faixa_3*100) / soma\n",
        "porcentagem_4 = (faixa_4*100) / soma\n",
        "porcentagem_5 = (faixa_5*100) / soma\n",
        "print(f'[0-25]: {faixa_1} corresponde a {porcentagem_1}%\\n[26-50]: {faixa_2} corresponde a {porcentagem_2}%\\n[51-75]: {faixa_3} corresponde a {porcentagem_3}%\\n[76-100]: {faixa_4} corresponde a {porcentagem_4}%\\n[>100]: {faixa_5} corresponde a {porcentagem_5}%')"
      ],
      "metadata": {
        "colab": {
          "base_uri": "https://localhost:8080/"
        },
        "id": "vtrABlTKMp_d",
        "outputId": "eefc4cb6-ae5a-42ef-fa70-8aad3e6d63a7"
      },
      "execution_count": null,
      "outputs": [
        {
          "output_type": "stream",
          "name": "stdout",
          "text": [
            "Informe a idade de um colaborador: 1\n",
            "Informe a idade de um colaborador: -1\n",
            "[0-25]: 1 corresponde a 100.0%\n",
            "[26-50]: 0 corresponde a 0.0%\n",
            "[51-75]: 0 corresponde a 0.0%\n",
            "[76-100]: 0 corresponde a 0.0%\n",
            "[>100]: 0 corresponde a 0.0%\n"
          ]
        }
      ]
    },
    {
      "cell_type": "code",
      "source": [
        "# 9) Em uma eleição para gerência em uma empresa com 20 funcionários, existem quatro candidatos.\n",
        "# Escreva um programa que calcule o vencedor da eleição. A votação ocorreu da seguinte maneira:\n",
        "\n",
        "# Cada funcionário votou em um dos quatro candidatos (representados pelos números 1, 2, 3 e 4).\n",
        "# Também foram contabilizados os votos nulos (representado pelo número 5) e os votos em branco (representado pelo número 6).\n",
        "# Ao final da votação, o programa deve exibir o total de votos para cada candidato, o número de votos nulos e o número de votos em branco.\n",
        "# Além disso, deve calcular e exibir a porcentagem de votos nulos em relação ao total de votos e a porcentagem de votos em branco em relação ao total de votos.\n",
        "\n",
        "voto_1 = 0\n",
        "voto_2 = 0\n",
        "voto_3 = 0\n",
        "voto_4 = 0\n",
        "voto_5 = 0\n",
        "voto_6 = 0\n",
        "contador = 0\n",
        "while contador < 4:\n",
        "  voto = int(input('Insira seu voto para Hokage: 1 - Naruto | 2 - Sasuke | 3 - Sakura | 4 - Kakashi | 5 - Nulo | 6 - Branco\\n'))\n",
        "  if voto == 1:\n",
        "    voto_1 += 1\n",
        "    contador += 1\n",
        "  elif voto == 2:\n",
        "    voto_2 += 1\n",
        "    contador += 1\n",
        "  elif voto == 3:\n",
        "    voto_3 += 1\n",
        "    contador += 1\n",
        "  elif voto == 4:\n",
        "    voto_4 += 1\n",
        "    contador += 1\n",
        "  elif voto == 5:\n",
        "    voto_5 += 1\n",
        "    contador += 1\n",
        "  elif voto == 6:\n",
        "    voto_6 += 1\n",
        "    contador += 1\n",
        "  else:\n",
        "    print('Insira uma opcao de voto valida')\n",
        "    continue\n",
        "soma = voto_1 +  voto_2 + voto_3 + voto_4 + voto_5 + voto_6\n",
        "porc_nulos = (voto_5*100) / soma\n",
        "porc_brancos = (voto_6*100) / soma\n",
        "print(f'Total de votos: {soma}')\n",
        "print(f'Naruto: {voto_1} votos\\nSasuke: {voto_2} votos\\nSakura: {voto_3} votos\\nKakashi: {voto_4} votos\\nNulo: {voto_5} votos\\nBranco: {voto_6} votos')\n",
        "print(f'\\nOs votos nulos correspondem a {porc_nulos:.2f}% e os votos em branco a {porc_brancos:.2f}%')\n"
      ],
      "metadata": {
        "id": "QVy1WYaCOWZg",
        "colab": {
          "base_uri": "https://localhost:8080/"
        },
        "outputId": "646eacba-ff91-4cba-af05-e6b36294c151"
      },
      "execution_count": null,
      "outputs": [
        {
          "output_type": "stream",
          "name": "stdout",
          "text": [
            "Insira seu voto para Hokage: 1 - Naruto | 2 - Sasuke | 3 - Sakura | 4 - Kakashi | 5 - Nulo | 6 - Branco\n",
            "6\n",
            "Insira seu voto para Hokage: 1 - Naruto | 2 - Sasuke | 3 - Sakura | 4 - Kakashi | 5 - Nulo | 6 - Branco\n",
            "6\n",
            "Insira seu voto para Hokage: 1 - Naruto | 2 - Sasuke | 3 - Sakura | 4 - Kakashi | 5 - Nulo | 6 - Branco\n",
            "6\n",
            "Insira seu voto para Hokage: 1 - Naruto | 2 - Sasuke | 3 - Sakura | 4 - Kakashi | 5 - Nulo | 6 - Branco\n",
            "5\n",
            "Total de votos: 4\n",
            "Naruto: 0 votos\n",
            "Sasuke: 0 votos\n",
            "Sakura: 0 votos\n",
            "Kakashi: 0 votos\n",
            "Nulo: 1 votos\n",
            "Branco: 3 votos\n",
            "\n",
            "Os votos nulos correspondem a 25.00% e os votos em branco a 75.00%\n"
          ]
        }
      ]
    },
    {
      "cell_type": "code",
      "source": [
        "# Inicializamos as variáveis contadoras\n",
        "votos_candidato1 = 0\n",
        "votos_candidato2 = 0\n",
        "votos_candidato3 = 0\n",
        "votos_candidato4 = 0\n",
        "votos_nulos = 0\n",
        "votos_branco = 0\n",
        "\n",
        "# Início do laço para ler os votos\n",
        "for i in range(0,4):\n",
        "    voto = int(input('Informe seu voto: '))\n",
        "    if voto == 1:\n",
        "        votos_candidato1 += 1\n",
        "    elif voto == 2:\n",
        "        votos_candidato2 += 1\n",
        "    elif voto == 3:\n",
        "        votos_candidato3 += 1\n",
        "    elif voto == 4:\n",
        "        votos_candidato4 += 1\n",
        "    elif voto == 5:\n",
        "        votos_nulos += 1\n",
        "    elif voto == 6:\n",
        "        votos_branco += 1\n",
        "    else:\n",
        "        print(\"Voto inválido.\")\n",
        "\n",
        "print(f'Votos candidato 1: {votos_candidato1}')\n",
        "print(f'Votos candidato 2: {votos_candidato2}')\n",
        "print(f'Votos candidato 3: {votos_candidato3}')\n",
        "print(f'Votos candidato 4: {votos_candidato4}')\n",
        "print(f'Votos nulos: {votos_nulos}')\n",
        "print(f'Votos em branco: {votos_branco}')\n",
        "print(f'Percentual de votos nulos: {(votos_nulos / 20 * 100)}')\n",
        "print(f'Percentual de votos em branco: {(votos_branco / 20 * 100)}')"
      ],
      "metadata": {
        "colab": {
          "base_uri": "https://localhost:8080/"
        },
        "id": "IxANlE7zfkNf",
        "outputId": "51cd0223-f4f7-4e98-b502-8356eea40297"
      },
      "execution_count": null,
      "outputs": [
        {
          "output_type": "stream",
          "name": "stdout",
          "text": [
            "Informe seu voto: 1\n",
            "Informe seu voto: 7\n",
            "Voto inválido.\n",
            "Informe seu voto: 1\n",
            "Informe seu voto: 1\n",
            "Votos candidato 1: 3\n",
            "Votos candidato 2: 0\n",
            "Votos candidato 3: 0\n",
            "Votos candidato 4: 0\n",
            "Votos nulos: 0\n",
            "Votos em branco: 0\n",
            "Percentual de votos nulos: 0.0\n",
            "Percentual de votos em branco: 0.0\n"
          ]
        }
      ]
    },
    {
      "cell_type": "markdown",
      "source": [
        "# Lista de exercicios final Python para Data Science, primeiros passos"
      ],
      "metadata": {
        "id": "BorPCM-urjZF"
      }
    },
    {
      "cell_type": "code",
      "source": [
        "# 1) Faça um programa que tenha a seguinte lista contendo os valores de gastos de uma empresa de papel [2172.54, 3701.35, 3518.09, 3456.61, 3249.38, 2840.82, 3891.45, 3075.26, 2317.64, 3219.08].\n",
        "# Com esses valores, faça um programa que calcule a média de gastos.\n",
        "# Dica, use as funções built-in sum() e len().\n",
        "\n",
        "gastos = [2172.54, 3701.35, 3518.09, 3456.61, 3249.38, 2840.82, 3891.45, 3075.26, 2317.64, 3219.08]\n",
        "media = sum(gastos)/len(gastos)\n",
        "print(f'Total: {sum(gastos)}')\n",
        "print(media)"
      ],
      "metadata": {
        "colab": {
          "base_uri": "https://localhost:8080/"
        },
        "id": "YG3zgvAerjC2",
        "outputId": "51a13d09-ba3d-4b08-e65f-fb71119650c4"
      },
      "execution_count": null,
      "outputs": [
        {
          "output_type": "stream",
          "name": "stdout",
          "text": [
            "Total: 31442.22\n",
            "3144.222\n"
          ]
        }
      ]
    },
    {
      "cell_type": "code",
      "source": [
        "#Exercicio 1 usando o for\n",
        "gastos = [2172.54, 3701.35, 3518.09, 3456.61, 3249.38, 2840.82, 3891.45, 3075.26, 2317.64, 3219.08]\n",
        "soma = 0\n",
        "contador = 0\n",
        "for valor in gastos:\n",
        "  soma += valor\n",
        "  contador += 1\n",
        "print(soma)\n",
        "print(contador)\n",
        "media = soma/contador\n",
        "print(media)"
      ],
      "metadata": {
        "colab": {
          "base_uri": "https://localhost:8080/"
        },
        "id": "Z2svxwnesKYT",
        "outputId": "27e2b0f5-bb06-4be5-f679-0c6f53da55b3"
      },
      "execution_count": null,
      "outputs": [
        {
          "output_type": "stream",
          "name": "stdout",
          "text": [
            "31442.22\n",
            "10\n",
            "3144.222\n"
          ]
        }
      ]
    },
    {
      "cell_type": "code",
      "source": [
        "# 2) Com os mesmos dados da questão anterior, defina quantas compras foram acima de 3000 reais e calcule a porcentagem quanto ao total de compras.\n",
        "contador_acima_3000 = 0\n",
        "faixa_acima_3000 = 0\n",
        "faixa_abaixo_3000 = 0\n",
        "for valor in gastos:\n",
        "  if valor > 3000:\n",
        "    faixa_acima_3000 += valor\n",
        "    contador_acima_3000 += 1\n",
        "  else:\n",
        "    faixa_abaixo_3000 += valor\n",
        "porc_acima_3000 = (faixa_acima_3000*100)/sum(gastos)\n",
        "porc_abaixo_3000 = (faixa_abaixo_3000*100)/sum(gastos)\n",
        "print(f'Existem {contador_acima_3000} compras acima de R$3000,00 que correspondem a {porc_acima_3000:.2f}%')\n",
        "print(f'O restante corresponde a {len(gastos)-contador_acima_3000} compras, referentes a {porc_abaixo_3000:.2f}% do total')"
      ],
      "metadata": {
        "colab": {
          "base_uri": "https://localhost:8080/"
        },
        "id": "hFHrOnQDs1mD",
        "outputId": "80cd1f05-59d2-418f-b8d7-1be5373298c5"
      },
      "execution_count": null,
      "outputs": [
        {
          "output_type": "stream",
          "name": "stdout",
          "text": [
            "Existem 7 compras acima de R$3000,00 que correspondem a 76.68%\n",
            "O restante corresponde a 3 compras, referentes a 23.32% do total\n"
          ]
        }
      ]
    },
    {
      "cell_type": "code",
      "source": [
        "# 3) Faça um código que colete em uma lista 5 números inteiros quaisquer e imprima a lista. Exemplo: [1,4,7,2,4].\n",
        "lista_numeros_aleatorios = []\n",
        "for contador in range(10):\n",
        "  lista_numeros_aleatorios.append(float(input('Insira um valor: ')))\n",
        "print(lista_numeros_aleatorios)\n",
        "\n",
        "lista_numeros_inteiros = []\n",
        "contador = 0\n",
        "for numero in lista_numeros_aleatorios:\n",
        "  if numero%1 == 0:\n",
        "    lista_numeros_inteiros.append(numero)\n",
        "    contador += 1\n",
        "    if contador == 5:\n",
        "      break\n",
        "  else:\n",
        "    continue\n",
        "print(lista_numeros_inteiros)"
      ],
      "metadata": {
        "colab": {
          "base_uri": "https://localhost:8080/"
        },
        "id": "Ferj45pWvwRr",
        "outputId": "ab2747ac-2777-4597-8479-0c9a1d0dc758"
      },
      "execution_count": null,
      "outputs": [
        {
          "output_type": "stream",
          "name": "stdout",
          "text": [
            "Insira um valor: 1\n",
            "Insira um valor: 2\n",
            "Insira um valor: 3\n",
            "Insira um valor: 4\n",
            "Insira um valor: 5\n",
            "Insira um valor: 6\n",
            "Insira um valor: 7\n",
            "Insira um valor: 8\n",
            "Insira um valor: 9\n",
            "Insira um valor: 10\n",
            "[1.0, 2.0, 3.0, 4.0, 5.0, 6.0, 7.0, 8.0, 9.0, 10.0]\n",
            "[1.0, 2.0, 3.0, 4.0, 5.0]\n"
          ]
        }
      ]
    },
    {
      "cell_type": "code",
      "source": [
        "# 4) Colete novamente 5 inteiros e imprima a lista em ordem inversa à enviada.\n",
        "\n",
        "lista_inversa = lista_numeros_aleatorios.sort(reverse=True)\n",
        "print(lista_numeros_aleatorios)"
      ],
      "metadata": {
        "colab": {
          "base_uri": "https://localhost:8080/"
        },
        "id": "ywzFOaFgypYh",
        "outputId": "c31f3418-1e3d-4bf4-b924-cf4e6709330b"
      },
      "execution_count": null,
      "outputs": [
        {
          "output_type": "stream",
          "name": "stdout",
          "text": [
            "[10.0, 9.0, 8.0, 7.0, 6.0, 5.0, 4.0, 3.0, 2.0, 1.0]\n"
          ]
        }
      ]
    },
    {
      "cell_type": "code",
      "source": [
        "# 5) Faça um programa que, ao inserir um número qualquer, criará uma lista contendo todos os números primos entre 1 e o número digitado.\n",
        "\n",
        "# Coletamos o números\n",
        "numero = int(input('Digite um número inteiro: '))\n",
        "# Lista para receber os números primos\n",
        "lista_primos = []\n",
        "# Laço que vai rodar por todos os números abaixo do número digitado\n",
        "for num in range(2, numero):\n",
        "  # Primo é uma bandeira, ela permite sabermos se o valor analisado é ou não primo\n",
        "  primo = True\n",
        "  # Testamos se todos os números abaixo do especificado no primeiro laço podem\n",
        "  # gerar uma divisão exata\n",
        "  for teste_divisiveis in range(2, num):\n",
        "    if num % teste_divisiveis == 0:\n",
        "      # Caso seja divisivel por algum número entendemos que\n",
        "      # o num não é primo e finalizamos o laço interno com break\n",
        "      primo = False\n",
        "      break\n",
        "  # A condição se torna o resultado booleno de primo: False, ignoramos o condicional\n",
        "  # True, executamos o bloco do if\n",
        "  if primo:\n",
        "    lista_primos.append(num)\n",
        "# Resultado\n",
        "print(f'Lista de números primos: {lista_primos}')"
      ],
      "metadata": {
        "colab": {
          "base_uri": "https://localhost:8080/"
        },
        "id": "aD11L-ag1d1y",
        "outputId": "9de5054c-a85d-4ea4-ee2a-efd488a32e9e"
      },
      "execution_count": null,
      "outputs": [
        {
          "output_type": "stream",
          "name": "stdout",
          "text": [
            "Digite um número inteiro: 10\n",
            "Lista de números primos: [2, 3, 5, 7]\n"
          ]
        }
      ]
    },
    {
      "cell_type": "code",
      "source": [
        "numero = int(input('Insira um numero: '))\n",
        "lista_primos = []\n",
        "\n",
        "for num in range(2,numero):\n",
        "  primo = True\n",
        "  for teste_divisiveis in range(2,num):\n",
        "    if num%teste_divisiveis == 0:\n",
        "      primo = False\n",
        "      break\n",
        "  if primo:\n",
        "    lista_primos.append(num)\n",
        "print(lista_primos)"
      ],
      "metadata": {
        "colab": {
          "base_uri": "https://localhost:8080/"
        },
        "id": "bo1okEEuHRpM",
        "outputId": "40311f44-5e81-4991-a5b4-8a097335174c"
      },
      "execution_count": null,
      "outputs": [
        {
          "output_type": "stream",
          "name": "stdout",
          "text": [
            "Insira um numero: 10\n",
            "[2, 3, 5, 7]\n"
          ]
        }
      ]
    },
    {
      "cell_type": "code",
      "source": [
        "# 6) Escreva um programa que peça uma data informando o dia, mês e ano e determine se ela é uma data válida para uma análise.\n",
        "\n",
        "dia = int(input('Informe o dia: '))\n",
        "mes = int(input('Informe o mes: '))\n",
        "ano = int(input('Informe o ano: '))\n",
        "\n",
        "if dia >= 1 and dia <=31:\n",
        "  dia_analise = True\n",
        "else:\n",
        "  dia_analise = False\n",
        "\n",
        "if mes >= 1 and mes <=12:\n",
        "  mes_analise = True\n",
        "else:\n",
        "  mes_analise = False\n",
        "\n",
        "if ano >= 1800 and ano <=2023:\n",
        "  ano_analise = True\n",
        "else:\n",
        "  ano_analise = False\n",
        "\n",
        "if dia_analise == True and mes_analise == True and ano_analise == True:\n",
        "  print(f'A data {dia}/{mes}/{ano} pode ser utilizada para uma analise')\n",
        "else:\n",
        "  print('Informe uma data valida para continuar')\n"
      ],
      "metadata": {
        "id": "tUlP8Op0pEtB",
        "colab": {
          "base_uri": "https://localhost:8080/"
        },
        "outputId": "37be679b-c82a-433e-be16-ec11d55a1e53"
      },
      "execution_count": null,
      "outputs": [
        {
          "output_type": "stream",
          "name": "stdout",
          "text": [
            "Informe o dia: 3\n",
            "Informe o mes: 2\n",
            "Informe o ano: 2080\n",
            "Informe uma data valida para continuar\n"
          ]
        }
      ]
    },
    {
      "cell_type": "code",
      "source": [
        "# 7) Para um estudo envolvendo o nível de multiplicação de bactérias em uma colônia, foi coletado o número de bactérias multiplicadas por dia\n",
        "# e pode ser observado a seguir: [1.2, 2.1, 3.3, 5.0, 7.8, 11.3, 16.6, 25.1, 37.8, 56.9].\n",
        "# Tendo esses valores, faça um código que gere uma lista contendo o percentual de crescimento de bactérias por dia,\n",
        "# comparando o número de bactérias em cada dia com o número de bactérias do dia anterior.\n",
        "# Dica: para calcular o percentual de crescimento usamos a seguinte equação: 100 * (amostra_atual - amostra_passada) / (amostra_passada).\n",
        "\n",
        "bac_mult = [1.2, 2.1, 3.3, 5.0, 7.8, 11.3, 16.6, 25.1, 37.8, 56.9]\n",
        "bac_cresc = []\n",
        "\n",
        "# for para percorrer da 1ª posição da lista ate a ultima utilizando o len para obter o tamanho da lista\n",
        "for amostra in range(1,len(bac_mult)):\n",
        "  # Uma conferencia para saber se as posições de calculo estavam corretas na equação\n",
        "  print(f'{bac_mult[amostra]} - {bac_mult[amostra-1]}')\n",
        "  # acrescentando na nova lista a formula que calcula o percentual de crescimento utilizando o indice do for atual - o indice anterior em cada iteração\n",
        "  bac_cresc.append((100 * (bac_mult[amostra] - bac_mult[amostra-1])) / bac_mult[amostra-1])\n",
        "# Formatando o resultado para ser exibido com somente duas casas decimais depois da virgula\n",
        "print(['{:.2f}'.format(amostra) for amostra in bac_cresc])"
      ],
      "metadata": {
        "colab": {
          "base_uri": "https://localhost:8080/"
        },
        "id": "FM7-APU-c41f",
        "outputId": "9cd5b0c2-82ea-4966-e49c-a67aa56815ae"
      },
      "execution_count": null,
      "outputs": [
        {
          "output_type": "stream",
          "name": "stdout",
          "text": [
            "2.1 - 1.2\n",
            "3.3 - 2.1\n",
            "5.0 - 3.3\n",
            "7.8 - 5.0\n",
            "11.3 - 7.8\n",
            "16.6 - 11.3\n",
            "25.1 - 16.6\n",
            "37.8 - 25.1\n",
            "56.9 - 37.8\n",
            "['75.00', '57.14', '51.52', '56.00', '44.87', '46.90', '51.20', '50.60', '50.53']\n"
          ]
        }
      ]
    },
    {
      "cell_type": "code",
      "source": [
        "# 8) Para uma seleção de produtos alimentícios, precisamos separar o conjunto de IDs dados por números inteiros,\n",
        "# sabendo que os produtos com ID par são doces e os com ID ímpar são amargos.\n",
        "# Monte um código que colete 10 IDs. Depois, calcule e mostre a quantidade de produtos doces e amargos.\n",
        "\n",
        "lista_produtos = []\n",
        "pares = []\n",
        "impares = []\n",
        "\n",
        "for produto in range(4):\n",
        "  lista_produtos.append(int(input(f'Informe o {produto+1}º id de um produto: ')))\n",
        "  if lista_produtos[produto] % 2 == 0:\n",
        "    pares.append(lista_produtos[produto])\n",
        "  else:\n",
        "    impares.append(lista_produtos[produto])\n",
        "print(f'A lista é composta por {len(pares)} produtos doces e {len(impares)} produtos amargos')\n"
      ],
      "metadata": {
        "id": "PM82UIVODEQY",
        "colab": {
          "base_uri": "https://localhost:8080/"
        },
        "outputId": "d5bafb81-8086-4f1e-d241-0dcc000ce26b"
      },
      "execution_count": null,
      "outputs": [
        {
          "output_type": "stream",
          "name": "stdout",
          "text": [
            "Informe o 1º id de um produto: 12\n",
            "Informe o 2º id de um produto: 13\n",
            "Informe o 3º id de um produto: 35\n",
            "Informe o 4º id de um produto: 79\n",
            "A lista é composta por 1 produtos doces e 3 produtos amargos\n"
          ]
        }
      ]
    },
    {
      "cell_type": "code",
      "source": [
        "# 9) Desenvolva um programa que informa a nota de um aluno de acordo com suas respostas.\n",
        "# Ele deve pedir a resposta de um aluno para cada questão e é preciso verificar se a resposta foi igual ao gabarito.\n",
        "# Cada questão vale um ponto e existem alternativas: A, B, C ou D.\n",
        "\n",
        "gabarito = {1:'D',2:'A',3:'C',4:'B',5:'A',6:'D',7:'C',8:'C',9:'A',10:'B'}\n",
        "contador = 0\n",
        "respostas_aluno = {}  # Define um dicionário vazio\n",
        "\n",
        "for i in range (1,11):\n",
        "  resposta = input(f'Insira a resposta da {i}ª questão: ')  # Ex: A,B,C ou D\n",
        "  respostas_aluno[i] = resposta  # Insere o conjunto no dicionário\n",
        "\n",
        "for resposta in gabarito.keys():\n",
        "  if gabarito[resposta] == respostas_aluno[resposta]:\n",
        "    contador += 1\n",
        "  else:\n",
        "    continue\n",
        "\n",
        "print(respostas_aluno)\n",
        "print(contador)\n"
      ],
      "metadata": {
        "id": "0lFGLtVhebsn",
        "colab": {
          "base_uri": "https://localhost:8080/"
        },
        "outputId": "70dbc7be-7ffa-4477-9bb3-c77ebb15ec89"
      },
      "execution_count": null,
      "outputs": [
        {
          "output_type": "stream",
          "name": "stdout",
          "text": [
            "Insira a resposta da 1ª questão: D\n",
            "Insira a resposta da 2ª questão: A\n",
            "Insira a resposta da 3ª questão: C\n",
            "Insira a resposta da 4ª questão: B\n",
            "Insira a resposta da 5ª questão: A\n",
            "Insira a resposta da 6ª questão: C\n",
            "Insira a resposta da 7ª questão: D\n",
            "Insira a resposta da 8ª questão: D\n",
            "Insira a resposta da 9ª questão: D\n",
            "Insira a resposta da 10ª questão: D\n",
            "{1: 'D', 2: 'A', 3: 'C', 4: 'B', 5: 'A', 6: 'C', 7: 'D', 8: 'D', 9: 'D', 10: 'D'}\n",
            "1\n"
          ]
        }
      ]
    },
    {
      "cell_type": "code",
      "source": [
        "# 10) Um instituto de meteorologia deseja fazer um estudo de temperatura média de cada mês do ano.\n",
        "# Para isso, você precisa fazer um código que colete e armazene essas temperaturas médias em uma lista.\n",
        "# Depois, calcule a média anual das temperaturas e mostre todas as temperaturas acima da média anual,\n",
        "# e em que mês elas ocorreram, mostrando os meses por extenso: Janeiro, Fevereiro, etc.\n",
        "\n",
        "temp_anual = []\n",
        "temp_acima_media = []\n",
        "meses = ['Janeiro','Fevereiro','Marco','Abril','Maio','Junho','Julho','Agosto','Setembro','Outubro','Novembro','Dezembro']\n",
        "soma_temp = 0\n",
        "\n",
        "# For para coletar as temperaturas de todos os meses do ano e armazenar na lista temp_anual\n",
        "for temp in range(0,12):\n",
        "  temp_anual.append(float(input(f'Informe a temperatura do {temp+1} mes: ')))\n",
        "  # Armazenando a soma de todas as temperaturas inseridas na variavel soma_temp\n",
        "  soma_temp += temp_anual[temp]\n",
        "\n",
        "# Calculo da media anual de temperaturas dividindo a soma das temperaturas pela quantidade de registros inseridos\n",
        "media_anual = soma_temp / len(temp_anual)\n",
        "\n",
        "# For que percorre todas as posicoes da lista meses\n",
        "for mes in range(0,len(meses)):\n",
        "  # A cada iteracao e verificado quais temperaturas coletadas sao maiores que a media anual de temperaturas\n",
        "  if temp_anual[mes] > media_anual:\n",
        "    # Caso a temperatura verifica seja maior que a media anual de temperatura,\n",
        "    # o valor que esta na referencia de memoria da lista meses e armazenado na lista temp_acima_media\n",
        "    temp_acima_media.append(meses[mes])\n",
        "  else:\n",
        "    continue\n",
        "\n",
        "print(f'Temperaturas inseridas: {temp_anual}')\n",
        "print(f'Media anual de temperatura: {media_anual:.2f}')\n",
        "print(f'Meses que registraram temperaturas acima da media: {temp_acima_media}')"
      ],
      "metadata": {
        "id": "ZcRiitFzw24k",
        "colab": {
          "base_uri": "https://localhost:8080/"
        },
        "outputId": "f09ff24f-df8e-45f3-8a83-8276f4e8a1fd"
      },
      "execution_count": null,
      "outputs": [
        {
          "output_type": "stream",
          "name": "stdout",
          "text": [
            "Informe a temperatura do 1 mes: 2\n",
            "Informe a temperatura do 2 mes: 2\n",
            "Informe a temperatura do 3 mes: 2\n",
            "Informe a temperatura do 4 mes: 2\n",
            "Informe a temperatura do 5 mes: 2\n",
            "Informe a temperatura do 6 mes: 2\n",
            "Informe a temperatura do 7 mes: 56\n",
            "Informe a temperatura do 8 mes: 67\n",
            "Informe a temperatura do 9 mes: 6\n",
            "Informe a temperatura do 10 mes: 34\n",
            "Informe a temperatura do 11 mes: 11\n",
            "Informe a temperatura do 12 mes: 2\n",
            "Temperaturas inseridas: [2.0, 2.0, 2.0, 2.0, 2.0, 2.0, 56.0, 67.0, 6.0, 34.0, 11.0, 2.0]\n",
            "Media anual de temperatura: 15.666666666666666\n",
            "Meses que registraram temperaturas acima da media: ['Julho', 'Agosto', 'Outubro']\n"
          ]
        }
      ]
    },
    {
      "cell_type": "code",
      "source": [
        "# 11) Uma empresa de e-commerce está interessada em analisar as vendas dos seus produtos.\n",
        "# Os dados das vendas foram armazenados em um dicionário:\n",
        "vendas = {'Produto A': 300, 'Produto B': 500, 'Produto C': 60,\n",
        " 'Produto D': 200, 'Produto E': 250, 'Produto F': 30}\n",
        "# Escreva um código que calcule o total de vendas e o produto mais vendido.\n",
        "soma_vendas = 0\n",
        "maior_venda = 0\n",
        "produto_mais_vendido = ''\n",
        "for venda in vendas.keys():\n",
        "  soma_vendas += vendas[venda]\n",
        "  if vendas[venda]>maior_venda:\n",
        "    maior_venda = vendas[venda]\n",
        "    produto_mais_vendido = venda\n",
        "  else:\n",
        "    continue\n",
        "\n",
        "#soma_vendas = sum(vendas.values())\n",
        "#maior_venda = max(vendas.values())\n",
        "print(soma_vendas)\n",
        "print(produto_mais_vendido)"
      ],
      "metadata": {
        "id": "ecrO4FvdKAYJ",
        "colab": {
          "base_uri": "https://localhost:8080/"
        },
        "outputId": "ecc04420-a28f-4780-f8ff-d72f47caeddc"
      },
      "execution_count": null,
      "outputs": [
        {
          "output_type": "stream",
          "name": "stdout",
          "text": [
            "1340\n",
            "Produto B\n"
          ]
        }
      ]
    },
    {
      "cell_type": "code",
      "source": [
        "# 12) Uma pesquisa de mercado foi feita para decidir qual design de uma marca infantil mais agrada crianças.\n",
        "# A pesquisa foi feita e o votos computados podem ser observados abaixo:\n",
        "'''\n",
        "Tabela de votos da marca\n",
        "Design 1 - 1334 votos\n",
        "Design 2 - 982 votos\n",
        "Design 3 - 1751 votos\n",
        "Design 4 - 210 votos\n",
        "Design 5 - 1811 votos\n",
        "'''\n",
        "\n",
        "# Adapte os dados fornecidos a você para uma estrutura de dicionário e a partir dele, informe o design vencedor e a porcentagem de votos recebidos.\n",
        "\n",
        "ultima_qte_armazenada = 0\n",
        "dsign_vencedor = ''\n",
        "porc_vencedor = 0\n",
        "\n",
        "votos = {'Design 1':2000,\n",
        "'Design 2':9820,\n",
        "'Design 3':1751,\n",
        "'Design 4':35000,\n",
        "'Design 5':1811}\n",
        "\n",
        "for voto in votos.keys():\n",
        "  if votos[voto] > ultima_qte_armazenada:\n",
        "    ultima_qte_armazenada = votos[voto]\n",
        "    dsign_vencedor = voto\n",
        "  else:\n",
        "    continue\n",
        "\n",
        "porc_vencedor = (ultima_qte_armazenada*100) / sum(votos.values())\n",
        "\n",
        "\n",
        "print(votos.values())\n",
        "print(f'O dsign vencedor e o {dsign_vencedor} que corresponde a {porc_vencedor:.2f}%')"
      ],
      "metadata": {
        "id": "HPbvcgS4hxC1",
        "colab": {
          "base_uri": "https://localhost:8080/"
        },
        "outputId": "e63786d8-dff0-4c6f-a5c8-7d7365e7cfce"
      },
      "execution_count": null,
      "outputs": [
        {
          "output_type": "stream",
          "name": "stdout",
          "text": [
            "dict_values([2000, 9820, 1751, 35000, 1811])\n",
            "O dsign vencedor e o Design 4 que corresponde a 69.47%\n"
          ]
        }
      ]
    },
    {
      "cell_type": "code",
      "source": [
        "# 13) Os funcionários de um setor da empresa que você trabalha vão receber um abono correspondente a 10% do seu salário devido ao ótimo desempenho do time.\n",
        "# O setor financeiro solicitou sua ajuda para a verificação das consequências financeiras que esse abono irá gerar nos recursos.\n",
        "# Assim, foi encaminhada para você uma lista com os salários que receberão o abono: [1172, 1644, 2617, 5130, 5532, 6341, 6650, 7238, 7685, 7782, 7903].\n",
        "# O abono de cada funcionário não pode ser inferior a 200. Em código, transforme cada um dos salários em chaves de um dicionário e o abono de cada salário no elemento.\n",
        "# Depois, informe o total de gastos com o abono, quantos funcionários receberam o abono mínimo e qual o maior valor de abono fornecido.\n",
        "\n",
        "salarios = [1172, 1644, 2617, 5130, 5532, 6341, 6650, 7238, 7685, 7782, 7903]\n",
        "abono = []\n",
        "salario_abono = {}\n",
        "contador_abono_minimo = 0\n",
        "\n",
        "for salario in salarios:\n",
        "  abono.append(salario*(10/100))\n",
        "\n",
        "for valor in range(0,len(abono)):\n",
        "  if abono[valor]<200:\n",
        "    abono[valor] = 200\n",
        "    contador_abono_minimo += 1\n",
        "  else:\n",
        "    continue\n",
        "\n",
        "for salario,valor_abono in zip(salarios,abono):\n",
        "  salario_abono[salario] = valor_abono\n",
        "\n",
        "print(f'O total gasto com abono foi {sum(salario_abono.values())} reais, {contador_abono_minimo} pessoas receberam o abono minimo e {max(salario_abono.values()):.2f} foi o maior valor de abono pago')"
      ],
      "metadata": {
        "id": "WJBoW2oqgbFa",
        "colab": {
          "base_uri": "https://localhost:8080/"
        },
        "outputId": "2b374166-59cf-4009-9673-96b7c6830078"
      },
      "execution_count": null,
      "outputs": [
        {
          "output_type": "stream",
          "name": "stdout",
          "text": [
            "O total gasto com abono foi 6087.8 reais, 2 pessoas receberam o abono minimo e 790.30 foi o maior valor de abono pago\n"
          ]
        }
      ]
    },
    {
      "cell_type": "code",
      "source": [
        "# 14) Uma equipe de cientistas de dados está estudando a diversidade biológica em uma floresta.\n",
        "# A equipe fez a coleta de informações sobre o número de espécies de plantas e animais em cada área da floresta e armazenaram essas informações em um dicionário.\n",
        "# Nele, a chave descreve a área dos dados e os valores nas listas correspondem às espécies de plantas e animais nas áreas, respectivamente.\n",
        "\n",
        "area_especies = {'Área Norte': [2819, 7236],\n",
        " 'Área Leste': [881440, 9492],\n",
        " 'Área Sul': [5969, 7496],\n",
        " 'Área Oeste': [14446, 49688],\n",
        " 'Área Centro': [22558, 45148]}\n",
        "\n",
        "qtd_area_maior_diversidade = 0\n",
        "qtd_area_menor_diversidade = 0\n",
        "area_maior_diversidade = ''\n",
        "area_menor_diversidade = ''\n",
        "\n",
        "# Escreva um código para calcular a média de espécies por área e identificar a área com a maior diversidade biológica. Dica: use as funções built-in sum() e len().\n",
        "\n",
        "for area,especies in area_especies.items():\n",
        "  media_especies_por_area = sum(especies)/len(especies)\n",
        "  print(f'{area}\\nTotal de especies: {sum(especies)}\\nTipos de especies: {len(especies)}')\n",
        "  print(f'Media de especies por area: {media_especies_por_area}\\nEspecies de plantas: {especies[0]}\\nEspecies de animais: {especies[1]}\\n')\n",
        "  if sum(especies) > qtd_area_maior_diversidade:\n",
        "    qtd_area_maior_diversidade = sum(especies)\n",
        "    area_maior_diversidade = area\n",
        "  else:\n",
        "    continue\n",
        "print(f'Area com maior diversidade de especies: {area_maior_diversidade}')"
      ],
      "metadata": {
        "id": "n1lARwJlHqbO",
        "colab": {
          "base_uri": "https://localhost:8080/"
        },
        "outputId": "98734daa-974e-4f0e-f8f5-874674394581"
      },
      "execution_count": null,
      "outputs": [
        {
          "output_type": "stream",
          "name": "stdout",
          "text": [
            "Área Norte\n",
            "Total de especies: 10055\n",
            "Tipos de especies: 2\n",
            "Media de especies por area: 5027.5\n",
            "Especies de plantas: 2819\n",
            "Especies de animais: 7236\n",
            "\n",
            "Área Leste\n",
            "Total de especies: 890932\n",
            "Tipos de especies: 2\n",
            "Media de especies por area: 445466.0\n",
            "Especies de plantas: 881440\n",
            "Especies de animais: 9492\n",
            "\n",
            "Área Sul\n",
            "Total de especies: 13465\n",
            "Tipos de especies: 2\n",
            "Media de especies por area: 6732.5\n",
            "Especies de plantas: 5969\n",
            "Especies de animais: 7496\n",
            "\n",
            "Área Oeste\n",
            "Total de especies: 64134\n",
            "Tipos de especies: 2\n",
            "Media de especies por area: 32067.0\n",
            "Especies de plantas: 14446\n",
            "Especies de animais: 49688\n",
            "\n",
            "Área Centro\n",
            "Total de especies: 67706\n",
            "Tipos de especies: 2\n",
            "Media de especies por area: 33853.0\n",
            "Especies de plantas: 22558\n",
            "Especies de animais: 45148\n",
            "\n",
            "Area com maior diversidade de especies: Área Leste\n"
          ]
        }
      ]
    },
    {
      "cell_type": "code",
      "source": [
        "# 15) O setor de RH da sua empresa te pediu uma ajuda para analisar as idades dos funcionários de 4 setores da empresa. Para isso, ele te forneceu os seguintes dados:\n",
        "idades_por_setor = {'Setor A': [22, 26, 30, 30, 35, 38, 40, 56, 57, 65],\n",
        " 'Setor B': [22, 24, 26, 33, 41, 49, 50, 54, 60, 64],\n",
        " 'Setor C': [23, 26, 26, 29, 34, 35, 36, 41, 52, 56],\n",
        " 'Setor D': [19, 20, 25, 27, 34, 39, 42, 44, 50, 65]}\n",
        "# Sabendo que cada setor tem 10 funcionários, construa um código que calcule a média de idade de cada setor,\n",
        "# a idade média geral entre todos os setores e quantas pessoas estão acima da idade média geral.\n",
        "idade_geral = 0\n",
        "soma_media_geral = 0\n",
        "contador_idade_acima_media = 0\n",
        "\n",
        "for setor,idade in idades_por_setor.items():\n",
        "  idade_geral += sum(idade)\n",
        "  media_idade_setor = sum(idade)/len(idade)\n",
        "  print(f'Media de idade do setor {setor}: {media_idade_setor} anos')\n",
        "  soma_media_geral += media_idade_setor\n",
        "\n",
        "media_idade_geral = soma_media_geral/len(idades_por_setor)\n",
        "\n",
        "for setor,idade in idades_por_setor.items():\n",
        "  for i in idade:\n",
        "    if i > media_idade_geral:\n",
        "      contador_idade_acima_media += 1\n",
        "    else:\n",
        "      continue\n",
        "\n",
        "print(f'Media geral das idades: {media_idade_geral}')\n",
        "print(f'Foram encontradas {contador_idade_acima_media} pessoas acima da media geral de idades')"
      ],
      "metadata": {
        "colab": {
          "base_uri": "https://localhost:8080/"
        },
        "id": "SUhoxeEI-UKg",
        "outputId": "30a1af88-a38a-465d-ffdf-ff1046e7250d"
      },
      "execution_count": null,
      "outputs": [
        {
          "output_type": "stream",
          "name": "stdout",
          "text": [
            "Media de idade do setor Setor A: 39.9 anos\n",
            "Media de idade do setor Setor B: 42.3 anos\n",
            "Media de idade do setor Setor C: 35.8 anos\n",
            "Media de idade do setor Setor D: 36.5 anos\n",
            "Media geral das idades: 38.625\n",
            "Foram encontradas 18 pessoas acima da media geral de idades\n"
          ]
        }
      ]
    },
    {
      "cell_type": "code",
      "source": [
        "# Especificamos os dados para um dicionário\n",
        "dados = {'Setor A': [22, 26, 30, 30, 35, 38, 40, 56, 57, 65],\n",
        "        'Setor B': [22, 24, 26, 33, 41, 49, 50, 54, 60, 64],\n",
        "        'Setor C': [23, 26, 26, 29, 34, 35, 36, 41, 52, 56],\n",
        "        'Setor D': [19, 20, 25, 27, 34, 39, 42, 44, 50, 65]}\n",
        "# Inicializamos a variável que irá somar todas as idades\n",
        "total_idades = 0\n",
        "# Percorremos os valores de chaves e elementos do dicionário\n",
        "for setor, idades in dados.items():\n",
        "  # Calculamos a média dividindo a soma das idades pela quantidade funcionários em cada setor\n",
        "  media_idade = sum(idades) / len(idades)\n",
        "  # Imprimimos\n",
        "  print(f'O {setor} tem a média de {media_idade}')\n",
        "  # Somamos as médias\n",
        "  total_idades += sum(idades)\n",
        "# A média total será dada pela total_idades dividida pela quantidade de pessoas totais (setores * funcionários por setor)\n",
        "media_total = total_idades / (len(idades) * len(dados))\n",
        "print(f'A média de idade geral é {media_total}')\n",
        "\n",
        "# Inicializamos a variável que irá contar todas pessoas com idade acima da média\n",
        "acima_media = 0\n",
        "# Percorremos novamente os valores de chaves e elementos do dicionário\n",
        "for setor, idades in dados.items():\n",
        "  # Lemos os elementos (idades) dentro de cada lista de idades no dicionário\n",
        "  for id in idades:\n",
        "    # Verificamos se o valor da idade é superior à média total\n",
        "    if id > media_total:\n",
        "      # Caso o valor da idade seja superior à média, incrementamos mais um no contador\n",
        "      acima_media += 1\n",
        "# Resultado\n",
        "print(f'{acima_media} pessoas estão acima da idade média geral')"
      ],
      "metadata": {
        "colab": {
          "base_uri": "https://localhost:8080/"
        },
        "id": "6aOGEjTW5yyf",
        "outputId": "da789475-5d93-4ff9-ad56-c69e19392af5"
      },
      "execution_count": null,
      "outputs": [
        {
          "output_type": "stream",
          "name": "stdout",
          "text": [
            "O Setor A tem a média de 39.9\n",
            "O Setor B tem a média de 42.3\n",
            "O Setor C tem a média de 35.8\n",
            "O Setor D tem a média de 36.5\n",
            "A média de idade geral é 38.625\n",
            "18 pessoas estão acima da idade média geral\n"
          ]
        }
      ]
    }
  ]
}